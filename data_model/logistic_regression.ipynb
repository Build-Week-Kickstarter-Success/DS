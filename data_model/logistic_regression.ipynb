{
 "metadata": {
  "language_info": {
   "codemirror_mode": {
    "name": "ipython",
    "version": 3
   },
   "file_extension": ".py",
   "mimetype": "text/x-python",
   "name": "python",
   "nbconvert_exporter": "python",
   "pygments_lexer": "ipython3",
   "version": "3.8.5-final"
  },
  "orig_nbformat": 2,
  "kernelspec": {
   "name": "python3",
   "display_name": "Python 3"
  }
 },
 "nbformat": 4,
 "nbformat_minor": 2,
 "cells": [
  {
   "cell_type": "code",
   "execution_count": 1,
   "metadata": {},
   "outputs": [],
   "source": [
    "# imports\n",
    "import pandas as pd\n",
    "import os\n",
    "from sklearn.linear_model import LogisticRegression\n",
    "from sklearn.utils import resample\n",
    "\n",
    "from helper_functions import load_data\n",
    "from helper_functions import my_split\n",
    "from helper_functions import upsample_minority\n",
    "from helper_functions import downsample_majority\n",
    "from helper_functions import model_prep\n",
    "from helper_functions import get_results"
   ]
  },
  {
   "cell_type": "code",
   "execution_count": 2,
   "metadata": {},
   "outputs": [
    {
     "output_type": "execute_result",
     "data": {
      "text/plain": "              deadline  created_at  backers_count          launched_at  \\\n0  2009-05-03 02:59:59  1240600507              3  2009-04-24 15:52:03   \n1  2009-05-15 19:10:00  1240960224              2  2009-04-28 23:26:32   \n2  2009-05-22 17:26:00  1242163613              0  2009-05-12 17:39:58   \n3  2009-05-28 20:09:00  1240963795             18  2009-04-28 20:58:50   \n4  2009-05-31 07:38:00  1241177914              1  2009-05-01 08:22:21   \n\n   disable_communication currency  \\\n0                      0      USD   \n1                      0      USD   \n2                      0      USD   \n3                      0      USD   \n4                      0      USD   \n\n                                                name country    goal  \\\n0                                drawing for dollars      US    20.0   \n1  Sponsor Dereck Blackburn (Lostwars) Artist in ...      US   300.0   \n2                                      Mr. Squiggles      US    30.0   \n3                     Help me write my second novel.      US   500.0   \n4             Support casting my sculpture in bronze      US  2000.0   \n\n   final_status  state_changed_at  \\\n0             1        1241334017   \n1             0        1242432018   \n2             0        1243027818   \n3             1        1243556121   \n4             0        1243770317   \n\n                                                desc  campaign_length  \\\n0  I like drawing pictures. and then i color them...                8   \n1  I, Dereck Blackburn will be taking upon an inc...               17   \n2  So I saw darkpony's successfully funded drawin...               10   \n3  Do your part to help out starving artists and ...               30   \n4  I'm nearing completion on a sculpture, current...               30   \n\n   launch_year  launch_month  launch_day  launch_weekday  \n0         2009             4          24               4  \n1         2009             4          28               1  \n2         2009             5          12               1  \n3         2009             4          28               1  \n4         2009             5           1               4  ",
      "text/html": "<div>\n<style scoped>\n    .dataframe tbody tr th:only-of-type {\n        vertical-align: middle;\n    }\n\n    .dataframe tbody tr th {\n        vertical-align: top;\n    }\n\n    .dataframe thead th {\n        text-align: right;\n    }\n</style>\n<table border=\"1\" class=\"dataframe\">\n  <thead>\n    <tr style=\"text-align: right;\">\n      <th></th>\n      <th>deadline</th>\n      <th>created_at</th>\n      <th>backers_count</th>\n      <th>launched_at</th>\n      <th>disable_communication</th>\n      <th>currency</th>\n      <th>name</th>\n      <th>country</th>\n      <th>goal</th>\n      <th>final_status</th>\n      <th>state_changed_at</th>\n      <th>desc</th>\n      <th>campaign_length</th>\n      <th>launch_year</th>\n      <th>launch_month</th>\n      <th>launch_day</th>\n      <th>launch_weekday</th>\n    </tr>\n  </thead>\n  <tbody>\n    <tr>\n      <th>0</th>\n      <td>2009-05-03 02:59:59</td>\n      <td>1240600507</td>\n      <td>3</td>\n      <td>2009-04-24 15:52:03</td>\n      <td>0</td>\n      <td>USD</td>\n      <td>drawing for dollars</td>\n      <td>US</td>\n      <td>20.0</td>\n      <td>1</td>\n      <td>1241334017</td>\n      <td>I like drawing pictures. and then i color them...</td>\n      <td>8</td>\n      <td>2009</td>\n      <td>4</td>\n      <td>24</td>\n      <td>4</td>\n    </tr>\n    <tr>\n      <th>1</th>\n      <td>2009-05-15 19:10:00</td>\n      <td>1240960224</td>\n      <td>2</td>\n      <td>2009-04-28 23:26:32</td>\n      <td>0</td>\n      <td>USD</td>\n      <td>Sponsor Dereck Blackburn (Lostwars) Artist in ...</td>\n      <td>US</td>\n      <td>300.0</td>\n      <td>0</td>\n      <td>1242432018</td>\n      <td>I, Dereck Blackburn will be taking upon an inc...</td>\n      <td>17</td>\n      <td>2009</td>\n      <td>4</td>\n      <td>28</td>\n      <td>1</td>\n    </tr>\n    <tr>\n      <th>2</th>\n      <td>2009-05-22 17:26:00</td>\n      <td>1242163613</td>\n      <td>0</td>\n      <td>2009-05-12 17:39:58</td>\n      <td>0</td>\n      <td>USD</td>\n      <td>Mr. Squiggles</td>\n      <td>US</td>\n      <td>30.0</td>\n      <td>0</td>\n      <td>1243027818</td>\n      <td>So I saw darkpony's successfully funded drawin...</td>\n      <td>10</td>\n      <td>2009</td>\n      <td>5</td>\n      <td>12</td>\n      <td>1</td>\n    </tr>\n    <tr>\n      <th>3</th>\n      <td>2009-05-28 20:09:00</td>\n      <td>1240963795</td>\n      <td>18</td>\n      <td>2009-04-28 20:58:50</td>\n      <td>0</td>\n      <td>USD</td>\n      <td>Help me write my second novel.</td>\n      <td>US</td>\n      <td>500.0</td>\n      <td>1</td>\n      <td>1243556121</td>\n      <td>Do your part to help out starving artists and ...</td>\n      <td>30</td>\n      <td>2009</td>\n      <td>4</td>\n      <td>28</td>\n      <td>1</td>\n    </tr>\n    <tr>\n      <th>4</th>\n      <td>2009-05-31 07:38:00</td>\n      <td>1241177914</td>\n      <td>1</td>\n      <td>2009-05-01 08:22:21</td>\n      <td>0</td>\n      <td>USD</td>\n      <td>Support casting my sculpture in bronze</td>\n      <td>US</td>\n      <td>2000.0</td>\n      <td>0</td>\n      <td>1243770317</td>\n      <td>I'm nearing completion on a sculpture, current...</td>\n      <td>30</td>\n      <td>2009</td>\n      <td>5</td>\n      <td>1</td>\n      <td>4</td>\n    </tr>\n  </tbody>\n</table>\n</div>"
     },
     "metadata": {},
     "execution_count": 2
    }
   ],
   "source": [
    "# loading data\n",
    "df = load_data()\n",
    "df.head()"
   ]
  },
  {
   "cell_type": "code",
   "execution_count": 3,
   "metadata": {},
   "outputs": [],
   "source": [
    "# splitting data into test and train\n",
    "year = 2020\n",
    "train, test = my_split(df, year)"
   ]
  },
  {
   "cell_type": "code",
   "execution_count": 4,
   "metadata": {
    "tags": []
   },
   "outputs": [
    {
     "output_type": "stream",
     "name": "stdout",
     "text": "-------------------------------\nAccuracy Score: 0.3014832700931356\nROC AUC Score: 0.5\nF1 Score: 0.0\n"
    }
   ],
   "source": [
    "# majority classifier\n",
    "majority = train['final_status'].value_counts().index[0]\n",
    "\n",
    "y_pred = len(test['final_status']) * [majority]\n",
    "y_true = test['final_status']\n",
    "\n",
    "get_results(y_true, y_pred)"
   ]
  },
  {
   "cell_type": "code",
   "execution_count": 5,
   "metadata": {},
   "outputs": [],
   "source": [
    "# selecting features and target\n",
    "features = ['goal', \n",
    "        'campaign_length', \n",
    "        'launch_month', \n",
    "        'launch_day', \n",
    "        'launch_weekday', \n",
    "        'disable_communication',\n",
    "        'country', \n",
    "        'currency']\n",
    "\n",
    "target = 'final_status'"
   ]
  },
  {
   "cell_type": "code",
   "execution_count": 6,
   "metadata": {
    "tags": []
   },
   "outputs": [
    {
     "output_type": "stream",
     "name": "stdout",
     "text": "-------------------------------\nAccuracy Score: 0.3014832700931356\nROC AUC Score: 0.5\nF1 Score: 0.0\n"
    }
   ],
   "source": [
    "# logistic regression - no change to class balance\n",
    "X_train, y_train, X_test, y_test = model_prep(train, test, features, target, scale=False)\n",
    "\n",
    "model = LogisticRegression(solver='lbfgs')\n",
    "\n",
    "model.fit(X_train, y_train)\n",
    "model.score(X_test, y_test)\n",
    "\n",
    "y_pred = model.predict(X_test)\n",
    "y_true = y_test\n",
    "\n",
    "get_results(y_true, y_pred)"
   ]
  },
  {
   "cell_type": "code",
   "execution_count": null,
   "metadata": {},
   "outputs": [],
   "source": []
  }
 ]
}