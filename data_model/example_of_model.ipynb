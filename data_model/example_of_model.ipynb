{
 "metadata": {
  "language_info": {
   "codemirror_mode": {
    "name": "ipython",
    "version": 3
   },
   "file_extension": ".py",
   "mimetype": "text/x-python",
   "name": "python",
   "nbconvert_exporter": "python",
   "pygments_lexer": "ipython3",
   "version": "3.8.5-final"
  },
  "orig_nbformat": 2,
  "kernelspec": {
   "name": "python3",
   "display_name": "Python 3"
  }
 },
 "nbformat": 4,
 "nbformat_minor": 2,
 "cells": [
  {
   "cell_type": "code",
   "execution_count": 1,
   "metadata": {},
   "outputs": [],
   "source": [
    "# imports\n",
    "from model_prediction import make_prediction\n",
    "import pickle\n",
    "from helper_functions import clean_text\n",
    "import os\n",
    "from keras.models import load_model\n",
    "from tensorflow.keras.preprocessing import sequence\n",
    "from tensorflow.keras.models import load_model"
   ]
  },
  {
   "cell_type": "code",
   "execution_count": 2,
   "metadata": {
    "tags": []
   },
   "outputs": [
    {
     "output_type": "stream",
     "name": "stdout",
     "text": "Confidence: 0.9644129872322083\n"
    },
    {
     "output_type": "execute_result",
     "data": {
      "text/plain": "1"
     },
     "metadata": {},
     "execution_count": 2
    }
   ],
   "source": [
    "# example of using the function to make prediction\n",
    "test = {'name': 'This is my test title!'}\n",
    "make_prediction(test)"
   ]
  },
  {
   "cell_type": "code",
   "execution_count": 3,
   "metadata": {},
   "outputs": [
    {
     "output_type": "execute_result",
     "data": {
      "text/plain": "{'name': 'This is my test title!'}"
     },
     "metadata": {},
     "execution_count": 3
    }
   ],
   "source": [
    "# simulating the object being passed in\n",
    "object = {'name': 'This is my test title!'}\n",
    "object"
   ]
  },
  {
   "cell_type": "code",
   "execution_count": 4,
   "metadata": {},
   "outputs": [
    {
     "output_type": "execute_result",
     "data": {
      "text/plain": "'This is my test title!'"
     },
     "metadata": {},
     "execution_count": 4
    }
   ],
   "source": [
    "# picking out the feature that the model requires\n",
    "feature = object['name']\n",
    "feature"
   ]
  },
  {
   "cell_type": "code",
   "execution_count": 5,
   "metadata": {},
   "outputs": [
    {
     "output_type": "execute_result",
     "data": {
      "text/plain": "['this', 'is', 'my', 'test', 'title']"
     },
     "metadata": {},
     "execution_count": 5
    }
   ],
   "source": [
    "# cleaning the feature\n",
    "feature = clean_text(feature)\n",
    "feature"
   ]
  },
  {
   "cell_type": "code",
   "execution_count": 6,
   "metadata": {},
   "outputs": [
    {
     "output_type": "execute_result",
     "data": {
      "text/plain": "[[[109], [34], [25], [2263], [817]]]"
     },
     "metadata": {},
     "execution_count": 6
    }
   ],
   "source": [
    "# loading tokenizer to encode words as integers\n",
    "FILE_PATH = os.path.join(os.getcwd(), 'finished_models', 'new_tokenizer.pickle')\n",
    "token_maker = pickle.load(open(FILE_PATH, 'rb'))\n",
    "feature = [token_maker.texts_to_sequences(feature)]\n",
    "feature\n"
   ]
  },
  {
   "cell_type": "code",
   "execution_count": 7,
   "metadata": {},
   "outputs": [
    {
     "output_type": "execute_result",
     "data": {
      "text/plain": "array([[[ 109],\n        [  34],\n        [  25],\n        [2263],\n        [ 817],\n        [   0],\n        [   0],\n        [   0],\n        [   0],\n        [   0]]], dtype=int32)"
     },
     "metadata": {},
     "execution_count": 7
    }
   ],
   "source": [
    "# padding the sequences so that all are the same length\n",
    "feature = sequence.pad_sequences(feature, maxlen=10, padding='post')\n",
    "feature"
   ]
  },
  {
   "cell_type": "code",
   "execution_count": 8,
   "metadata": {},
   "outputs": [
    {
     "output_type": "execute_result",
     "data": {
      "text/plain": "0.964413"
     },
     "metadata": {},
     "execution_count": 8
    }
   ],
   "source": [
    "# using the model to make a prediction\n",
    "FILE_PATH = os.path.join(os.getcwd(), 'finished_models', 'basic_name_model.h5')\n",
    "model = load_model(FILE_PATH, compile=False)\n",
    "prediction = model.predict(feature)[0][0]\n",
    "prediction"
   ]
  },
  {
   "cell_type": "code",
   "execution_count": 9,
   "metadata": {},
   "outputs": [
    {
     "output_type": "execute_result",
     "data": {
      "text/plain": "1"
     },
     "metadata": {},
     "execution_count": 9
    }
   ],
   "source": [
    "# translating to binary prediction\n",
    "(prediction > 0.5).astype('int32')"
   ]
  },
  {
   "cell_type": "code",
   "execution_count": null,
   "metadata": {},
   "outputs": [],
   "source": []
  }
 ]
}