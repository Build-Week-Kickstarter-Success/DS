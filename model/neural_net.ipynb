{
 "metadata": {
  "language_info": {
   "codemirror_mode": {
    "name": "ipython",
    "version": 3
   },
   "file_extension": ".py",
   "mimetype": "text/x-python",
   "name": "python",
   "nbconvert_exporter": "python",
   "pygments_lexer": "ipython3",
   "version": "3.8.5-final"
  },
  "orig_nbformat": 2,
  "kernelspec": {
   "name": "python3",
   "display_name": "Python 3"
  }
 },
 "nbformat": 4,
 "nbformat_minor": 2,
 "cells": [
  {
   "cell_type": "code",
   "execution_count": 5,
   "metadata": {},
   "outputs": [],
   "source": [
    "# imports\n",
    "from tensorflow.keras import Sequential\n",
    "from tensorflow.keras.layers import Dense\n",
    "from tensorflow.keras.layers import Dropout\n",
    "import pandas as pd\n",
    "import category_encoders as ce\n",
    "from sklearn.preprocessing import StandardScaler"
   ]
  },
  {
   "cell_type": "code",
   "execution_count": 3,
   "metadata": {},
   "outputs": [],
   "source": [
    "# loading data\n",
    "\n",
    "# commenting this out while working locally in jupyter notebook\n",
    "# FILE_PATH = os.path.join(os.path.dirname(__file__), 'data' 'initial_cleaned_data.csv')\n",
    "\n",
    "FILE_PATH = '/home/zham/DS/model/data/initial_cleaned_data.csv'\n",
    "\n",
    "df = pd.read_csv(FILE_PATH, index_col=None)"
   ]
  },
  {
   "cell_type": "code",
   "execution_count": 4,
   "metadata": {},
   "outputs": [
    {
     "output_type": "execute_result",
     "data": {
      "text/plain": "                                                name  ... launch_weekday\n0                                drawing for dollars  ...              4\n1  Sponsor Dereck Blackburn (Lostwars) Artist in ...  ...              1\n2                                      Mr. Squiggles  ...              1\n3                     Help me write my second novel.  ...              1\n4             Support casting my sculpture in bronze  ...              4\n\n[5 rows x 14 columns]",
      "text/html": "<div>\n<style scoped>\n    .dataframe tbody tr th:only-of-type {\n        vertical-align: middle;\n    }\n\n    .dataframe tbody tr th {\n        vertical-align: top;\n    }\n\n    .dataframe thead th {\n        text-align: right;\n    }\n</style>\n<table border=\"1\" class=\"dataframe\">\n  <thead>\n    <tr style=\"text-align: right;\">\n      <th></th>\n      <th>name</th>\n      <th>desc</th>\n      <th>goal</th>\n      <th>disable_communication</th>\n      <th>country</th>\n      <th>currency</th>\n      <th>deadline</th>\n      <th>launched_at</th>\n      <th>final_status</th>\n      <th>campaign_length</th>\n      <th>launch_year</th>\n      <th>launch_month</th>\n      <th>launch_day</th>\n      <th>launch_weekday</th>\n    </tr>\n  </thead>\n  <tbody>\n    <tr>\n      <th>0</th>\n      <td>drawing for dollars</td>\n      <td>I like drawing pictures. and then i color them...</td>\n      <td>20.0</td>\n      <td>0</td>\n      <td>US</td>\n      <td>USD</td>\n      <td>2009-05-03 02:59:59</td>\n      <td>2009-04-24 15:52:03</td>\n      <td>1</td>\n      <td>8</td>\n      <td>2009</td>\n      <td>4</td>\n      <td>24</td>\n      <td>4</td>\n    </tr>\n    <tr>\n      <th>1</th>\n      <td>Sponsor Dereck Blackburn (Lostwars) Artist in ...</td>\n      <td>I, Dereck Blackburn will be taking upon an inc...</td>\n      <td>300.0</td>\n      <td>0</td>\n      <td>US</td>\n      <td>USD</td>\n      <td>2009-05-15 19:10:00</td>\n      <td>2009-04-28 23:26:32</td>\n      <td>0</td>\n      <td>17</td>\n      <td>2009</td>\n      <td>4</td>\n      <td>28</td>\n      <td>1</td>\n    </tr>\n    <tr>\n      <th>2</th>\n      <td>Mr. Squiggles</td>\n      <td>So I saw darkpony's successfully funded drawin...</td>\n      <td>30.0</td>\n      <td>0</td>\n      <td>US</td>\n      <td>USD</td>\n      <td>2009-05-22 17:26:00</td>\n      <td>2009-05-12 17:39:58</td>\n      <td>0</td>\n      <td>10</td>\n      <td>2009</td>\n      <td>5</td>\n      <td>12</td>\n      <td>1</td>\n    </tr>\n    <tr>\n      <th>3</th>\n      <td>Help me write my second novel.</td>\n      <td>Do your part to help out starving artists and ...</td>\n      <td>500.0</td>\n      <td>0</td>\n      <td>US</td>\n      <td>USD</td>\n      <td>2009-05-28 20:09:00</td>\n      <td>2009-04-28 20:58:50</td>\n      <td>1</td>\n      <td>30</td>\n      <td>2009</td>\n      <td>4</td>\n      <td>28</td>\n      <td>1</td>\n    </tr>\n    <tr>\n      <th>4</th>\n      <td>Support casting my sculpture in bronze</td>\n      <td>I'm nearing completion on a sculpture, current...</td>\n      <td>2000.0</td>\n      <td>0</td>\n      <td>US</td>\n      <td>USD</td>\n      <td>2009-05-31 07:38:00</td>\n      <td>2009-05-01 08:22:21</td>\n      <td>0</td>\n      <td>30</td>\n      <td>2009</td>\n      <td>5</td>\n      <td>1</td>\n      <td>4</td>\n    </tr>\n  </tbody>\n</table>\n</div>"
     },
     "metadata": {},
     "execution_count": 4
    }
   ],
   "source": [
    "df.head()"
   ]
  },
  {
   "cell_type": "code",
   "execution_count": 23,
   "metadata": {},
   "outputs": [],
   "source": [
    "df['launch_month'] = df['launch_month'].apply(lambda x: str(x))\n",
    "df['launch_day'] = df['launch_day'].apply(lambda x: str(x))\n",
    "df['launch_weekday'] = df['launch_weekday'].apply(lambda x: str(x))"
   ]
  },
  {
   "cell_type": "code",
   "execution_count": 40,
   "metadata": {},
   "outputs": [],
   "source": [
    "df['country'] = df['country'].apply(lambda x: 1 if x == 'US' else 0)\n",
    "df['currency'] = df['currency'].apply(lambda x: 1 if x == 'USD' else 0)"
   ]
  },
  {
   "cell_type": "code",
   "execution_count": 41,
   "metadata": {},
   "outputs": [
    {
     "output_type": "execute_result",
     "data": {
      "text/plain": "                                                name  ... launch_weekday\n0                                drawing for dollars  ...              4\n1  Sponsor Dereck Blackburn (Lostwars) Artist in ...  ...              1\n2                                      Mr. Squiggles  ...              1\n3                     Help me write my second novel.  ...              1\n4             Support casting my sculpture in bronze  ...              4\n\n[5 rows x 14 columns]",
      "text/html": "<div>\n<style scoped>\n    .dataframe tbody tr th:only-of-type {\n        vertical-align: middle;\n    }\n\n    .dataframe tbody tr th {\n        vertical-align: top;\n    }\n\n    .dataframe thead th {\n        text-align: right;\n    }\n</style>\n<table border=\"1\" class=\"dataframe\">\n  <thead>\n    <tr style=\"text-align: right;\">\n      <th></th>\n      <th>name</th>\n      <th>desc</th>\n      <th>goal</th>\n      <th>disable_communication</th>\n      <th>country</th>\n      <th>currency</th>\n      <th>deadline</th>\n      <th>launched_at</th>\n      <th>final_status</th>\n      <th>campaign_length</th>\n      <th>launch_year</th>\n      <th>launch_month</th>\n      <th>launch_day</th>\n      <th>launch_weekday</th>\n    </tr>\n  </thead>\n  <tbody>\n    <tr>\n      <th>0</th>\n      <td>drawing for dollars</td>\n      <td>I like drawing pictures. and then i color them...</td>\n      <td>20.0</td>\n      <td>0</td>\n      <td>1</td>\n      <td>1</td>\n      <td>2009-05-03 02:59:59</td>\n      <td>2009-04-24 15:52:03</td>\n      <td>1</td>\n      <td>8</td>\n      <td>2009</td>\n      <td>4</td>\n      <td>24</td>\n      <td>4</td>\n    </tr>\n    <tr>\n      <th>1</th>\n      <td>Sponsor Dereck Blackburn (Lostwars) Artist in ...</td>\n      <td>I, Dereck Blackburn will be taking upon an inc...</td>\n      <td>300.0</td>\n      <td>0</td>\n      <td>1</td>\n      <td>1</td>\n      <td>2009-05-15 19:10:00</td>\n      <td>2009-04-28 23:26:32</td>\n      <td>0</td>\n      <td>17</td>\n      <td>2009</td>\n      <td>4</td>\n      <td>28</td>\n      <td>1</td>\n    </tr>\n    <tr>\n      <th>2</th>\n      <td>Mr. Squiggles</td>\n      <td>So I saw darkpony's successfully funded drawin...</td>\n      <td>30.0</td>\n      <td>0</td>\n      <td>1</td>\n      <td>1</td>\n      <td>2009-05-22 17:26:00</td>\n      <td>2009-05-12 17:39:58</td>\n      <td>0</td>\n      <td>10</td>\n      <td>2009</td>\n      <td>5</td>\n      <td>12</td>\n      <td>1</td>\n    </tr>\n    <tr>\n      <th>3</th>\n      <td>Help me write my second novel.</td>\n      <td>Do your part to help out starving artists and ...</td>\n      <td>500.0</td>\n      <td>0</td>\n      <td>1</td>\n      <td>1</td>\n      <td>2009-05-28 20:09:00</td>\n      <td>2009-04-28 20:58:50</td>\n      <td>1</td>\n      <td>30</td>\n      <td>2009</td>\n      <td>4</td>\n      <td>28</td>\n      <td>1</td>\n    </tr>\n    <tr>\n      <th>4</th>\n      <td>Support casting my sculpture in bronze</td>\n      <td>I'm nearing completion on a sculpture, current...</td>\n      <td>2000.0</td>\n      <td>0</td>\n      <td>1</td>\n      <td>1</td>\n      <td>2009-05-31 07:38:00</td>\n      <td>2009-05-01 08:22:21</td>\n      <td>0</td>\n      <td>30</td>\n      <td>2009</td>\n      <td>5</td>\n      <td>1</td>\n      <td>4</td>\n    </tr>\n  </tbody>\n</table>\n</div>"
     },
     "metadata": {},
     "execution_count": 41
    }
   ],
   "source": [
    "df.head()"
   ]
  },
  {
   "cell_type": "code",
   "execution_count": 52,
   "metadata": {},
   "outputs": [],
   "source": [
    "encoder = ce.one_hot.OneHotEncoder(use_cat_names=True)\n",
    "scaler = StandardScaler()\n",
    "\n",
    "train = df[df['launch_year'] < 2014]\n",
    "test = df[df['launch_year'] == 2014]\n",
    "\n",
    "features = ['goal', 'campaign_length', 'currency', 'country', 'disable_communication']\n",
    "target = 'final_status'\n",
    "\n",
    "X_train = df[features]\n",
    "X_train = encoder.fit_transform(X_train)\n",
    "X_train = scaler.fit_transform(X_train)\n",
    "\n",
    "y_train = df[target]\n",
    "\n",
    "\n",
    "X_test = test[features]\n",
    "X_test = encoder.transform(X_test)\n",
    "X_test = scaler.transform(X_test)\n",
    "\n",
    "y_test = test[target]"
   ]
  },
  {
   "cell_type": "code",
   "execution_count": 53,
   "metadata": {},
   "outputs": [
    {
     "output_type": "execute_result",
     "data": {
      "text/plain": "array([[-3.77675650e-02, -2.01412305e+00,  4.18203046e-01,\n         4.18203046e-01, -5.47368492e-02],\n       [-3.74794690e-02, -1.32028529e+00,  4.18203046e-01,\n         4.18203046e-01, -5.47368492e-02],\n       [-3.77572758e-02, -1.85993688e+00,  4.18203046e-01,\n         4.18203046e-01, -5.47368492e-02],\n       ...,\n       [-3.74588907e-02, -3.18075191e-01,  4.18203046e-01,\n         4.18203046e-01, -5.47368492e-02],\n       [-1.77614159e-03, -2.40982106e-01,  4.18203046e-01,\n         4.18203046e-01, -5.47368492e-02],\n       [-1.20652849e-02,  8.38321077e-01,  4.18203046e-01,\n         4.18203046e-01, -5.47368492e-02]])"
     },
     "metadata": {},
     "execution_count": 53
    }
   ],
   "source": [
    "X_train"
   ]
  },
  {
   "cell_type": "code",
   "execution_count": 54,
   "metadata": {},
   "outputs": [
    {
     "output_type": "execute_result",
     "data": {
      "text/plain": "5"
     },
     "metadata": {},
     "execution_count": 54
    }
   ],
   "source": [
    "X_train.shape[1]"
   ]
  },
  {
   "cell_type": "code",
   "execution_count": 55,
   "metadata": {
    "tags": []
   },
   "outputs": [
    {
     "output_type": "stream",
     "name": "stdout",
     "text": "Model: \"sequential_13\"\n_________________________________________________________________\nLayer (type)                 Output Shape              Param #   \n=================================================================\ndense_52 (Dense)             (None, 63)                378       \n_________________________________________________________________\ndropout_39 (Dropout)         (None, 63)                0         \n_________________________________________________________________\ndense_53 (Dense)             (None, 40)                2560      \n_________________________________________________________________\ndropout_40 (Dropout)         (None, 40)                0         \n_________________________________________________________________\ndense_54 (Dense)             (None, 10)                410       \n_________________________________________________________________\ndropout_41 (Dropout)         (None, 10)                0         \n_________________________________________________________________\ndense_55 (Dense)             (None, 10)                110       \n_________________________________________________________________\ndropout_42 (Dropout)         (None, 10)                0         \n_________________________________________________________________\ndense_56 (Dense)             (None, 1)                 11        \n=================================================================\nTotal params: 3,469\nTrainable params: 3,469\nNon-trainable params: 0\n_________________________________________________________________\n"
    }
   ],
   "source": [
    "input_dim = X_train.shape[1]\n",
    "\n",
    "model = Sequential()\n",
    "\n",
    "model.add(Dense(63, input_dim=input_dim, activation='relu'))\n",
    "model.add(Dropout(0.2))\n",
    "model.add(Dense(40, activation='relu'))\n",
    "model.add(Dropout(0.2))\n",
    "model.add(Dense(10, activation='relu'))\n",
    "model.add(Dropout(0.2))\n",
    "model.add(Dense(10, activation='relu'))\n",
    "model.add(Dropout(0.2))\n",
    "model.add(Dense(1, activation='sigmoid'))\n",
    "\n",
    "model.compile(\n",
    "    loss='binary_crossentropy',\n",
    "    optimizer='adam',\n",
    "    metrics='accuracy'\n",
    ")\n",
    "\n",
    "model.summary()"
   ]
  },
  {
   "cell_type": "code",
   "execution_count": 56,
   "metadata": {
    "tags": []
   },
   "outputs": [
    {
     "output_type": "stream",
     "name": "stdout",
     "text": "Epoch 1/10\n3380/3380 [==============================] - 13s 4ms/step - loss: 0.6192 - accuracy: 0.6801\nEpoch 2/10\n3380/3380 [==============================] - 11s 3ms/step - loss: 0.6122 - accuracy: 0.6802\nEpoch 3/10\n3380/3380 [==============================] - 11s 3ms/step - loss: 0.6104 - accuracy: 0.6801\nEpoch 4/10\n3380/3380 [==============================] - 12s 4ms/step - loss: 0.6094 - accuracy: 0.6801\nEpoch 5/10\n3380/3380 [==============================] - 11s 3ms/step - loss: 0.6082 - accuracy: 0.6800\nEpoch 6/10\n3380/3380 [==============================] - 10s 3ms/step - loss: 0.6073 - accuracy: 0.6802\nEpoch 7/10\n3380/3380 [==============================] - 9s 3ms/step - loss: 0.6069 - accuracy: 0.6798\nEpoch 8/10\n3380/3380 [==============================] - 9s 3ms/step - loss: 0.6067 - accuracy: 0.6800\nEpoch 9/10\n3380/3380 [==============================] - 9s 3ms/step - loss: 0.6062 - accuracy: 0.6802\nEpoch 10/10\n3380/3380 [==============================] - 9s 3ms/step - loss: 0.6060 - accuracy: 0.6801\n"
    }
   ],
   "source": [
    "model = model.fit(x=X_train, \n",
    "          y=y_train, \n",
    "          epochs=10, \n",
    "          )"
   ]
  },
  {
   "cell_type": "code",
   "execution_count": null,
   "metadata": {},
   "outputs": [],
   "source": []
  }
 ]
}