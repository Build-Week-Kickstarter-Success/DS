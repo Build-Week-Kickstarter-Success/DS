{
 "metadata": {
  "language_info": {
   "codemirror_mode": {
    "name": "ipython",
    "version": 3
   },
   "file_extension": ".py",
   "mimetype": "text/x-python",
   "name": "python",
   "nbconvert_exporter": "python",
   "pygments_lexer": "ipython3",
   "version": "3.7.6-final"
  },
  "orig_nbformat": 2,
  "kernelspec": {
   "name": "python3",
   "display_name": "Python 3"
  }
 },
 "nbformat": 4,
 "nbformat_minor": 2,
 "cells": [
  {
   "cell_type": "code",
   "execution_count": 1,
   "metadata": {},
   "outputs": [],
   "source": [
    "# imports\n",
    "import pandas as pd\n",
    "import os\n",
    "from sklearn.metrics import accuracy_score\n",
    "from sklearn.linear_model import LogisticRegression\n",
    "import category_encoders as ce\n",
    "from sklearn.utils import resample\n",
    "\n",
    "from helper_functions import load_data\n",
    "from helper_functions import my_split\n",
    "from helper_functions import upsample_minority\n",
    "from helper_functions import downsample_majority\n",
    "\n",
    "encoder = ce.one_hot.OneHotEncoder(use_cat_names=True)"
   ]
  },
  {
   "cell_type": "code",
   "execution_count": 3,
   "metadata": {},
   "outputs": [
    {
     "output_type": "execute_result",
     "data": {
      "text/plain": "                                                name  \\\n0                                drawing for dollars   \n1  Sponsor Dereck Blackburn (Lostwars) Artist in ...   \n2                                      Mr. Squiggles   \n3                     Help me write my second novel.   \n4             Support casting my sculpture in bronze   \n\n                                                desc    goal  \\\n0  I like drawing pictures. and then i color them...    20.0   \n1  I, Dereck Blackburn will be taking upon an inc...   300.0   \n2  So I saw darkpony's successfully funded drawin...    30.0   \n3  Do your part to help out starving artists and ...   500.0   \n4  I'm nearing completion on a sculpture, current...  2000.0   \n\n   disable_communication country currency             deadline  \\\n0                      0      US      USD  2009-05-03 02:59:59   \n1                      0      US      USD  2009-05-15 19:10:00   \n2                      0      US      USD  2009-05-22 17:26:00   \n3                      0      US      USD  2009-05-28 20:09:00   \n4                      0      US      USD  2009-05-31 07:38:00   \n\n           launched_at  final_status  campaign_length  launch_year  \\\n0  2009-04-24 15:52:03             1                8         2009   \n1  2009-04-28 23:26:32             0               17         2009   \n2  2009-05-12 17:39:58             0               10         2009   \n3  2009-04-28 20:58:50             1               30         2009   \n4  2009-05-01 08:22:21             0               30         2009   \n\n   launch_month  launch_day  launch_weekday  \n0             4          24               4  \n1             4          28               1  \n2             5          12               1  \n3             4          28               1  \n4             5           1               4  ",
      "text/html": "<div>\n<style scoped>\n    .dataframe tbody tr th:only-of-type {\n        vertical-align: middle;\n    }\n\n    .dataframe tbody tr th {\n        vertical-align: top;\n    }\n\n    .dataframe thead th {\n        text-align: right;\n    }\n</style>\n<table border=\"1\" class=\"dataframe\">\n  <thead>\n    <tr style=\"text-align: right;\">\n      <th></th>\n      <th>name</th>\n      <th>desc</th>\n      <th>goal</th>\n      <th>disable_communication</th>\n      <th>country</th>\n      <th>currency</th>\n      <th>deadline</th>\n      <th>launched_at</th>\n      <th>final_status</th>\n      <th>campaign_length</th>\n      <th>launch_year</th>\n      <th>launch_month</th>\n      <th>launch_day</th>\n      <th>launch_weekday</th>\n    </tr>\n  </thead>\n  <tbody>\n    <tr>\n      <th>0</th>\n      <td>drawing for dollars</td>\n      <td>I like drawing pictures. and then i color them...</td>\n      <td>20.0</td>\n      <td>0</td>\n      <td>US</td>\n      <td>USD</td>\n      <td>2009-05-03 02:59:59</td>\n      <td>2009-04-24 15:52:03</td>\n      <td>1</td>\n      <td>8</td>\n      <td>2009</td>\n      <td>4</td>\n      <td>24</td>\n      <td>4</td>\n    </tr>\n    <tr>\n      <th>1</th>\n      <td>Sponsor Dereck Blackburn (Lostwars) Artist in ...</td>\n      <td>I, Dereck Blackburn will be taking upon an inc...</td>\n      <td>300.0</td>\n      <td>0</td>\n      <td>US</td>\n      <td>USD</td>\n      <td>2009-05-15 19:10:00</td>\n      <td>2009-04-28 23:26:32</td>\n      <td>0</td>\n      <td>17</td>\n      <td>2009</td>\n      <td>4</td>\n      <td>28</td>\n      <td>1</td>\n    </tr>\n    <tr>\n      <th>2</th>\n      <td>Mr. Squiggles</td>\n      <td>So I saw darkpony's successfully funded drawin...</td>\n      <td>30.0</td>\n      <td>0</td>\n      <td>US</td>\n      <td>USD</td>\n      <td>2009-05-22 17:26:00</td>\n      <td>2009-05-12 17:39:58</td>\n      <td>0</td>\n      <td>10</td>\n      <td>2009</td>\n      <td>5</td>\n      <td>12</td>\n      <td>1</td>\n    </tr>\n    <tr>\n      <th>3</th>\n      <td>Help me write my second novel.</td>\n      <td>Do your part to help out starving artists and ...</td>\n      <td>500.0</td>\n      <td>0</td>\n      <td>US</td>\n      <td>USD</td>\n      <td>2009-05-28 20:09:00</td>\n      <td>2009-04-28 20:58:50</td>\n      <td>1</td>\n      <td>30</td>\n      <td>2009</td>\n      <td>4</td>\n      <td>28</td>\n      <td>1</td>\n    </tr>\n    <tr>\n      <th>4</th>\n      <td>Support casting my sculpture in bronze</td>\n      <td>I'm nearing completion on a sculpture, current...</td>\n      <td>2000.0</td>\n      <td>0</td>\n      <td>US</td>\n      <td>USD</td>\n      <td>2009-05-31 07:38:00</td>\n      <td>2009-05-01 08:22:21</td>\n      <td>0</td>\n      <td>30</td>\n      <td>2009</td>\n      <td>5</td>\n      <td>1</td>\n      <td>4</td>\n    </tr>\n  </tbody>\n</table>\n</div>"
     },
     "metadata": {},
     "execution_count": 3
    }
   ],
   "source": [
    "# loading data\n",
    "df = load_data()\n",
    "df.head()"
   ]
  },
  {
   "cell_type": "code",
   "execution_count": 4,
   "metadata": {},
   "outputs": [],
   "source": [
    "# splitting data into test and train\n",
    "year = 2015\n",
    "train, test = my_split(df, year)"
   ]
  },
  {
   "cell_type": "code",
   "execution_count": 5,
   "metadata": {},
   "outputs": [
    {
     "output_type": "execute_result",
     "data": {
      "text/plain": "0.7691787003610109"
     },
     "metadata": {},
     "execution_count": 5
    }
   ],
   "source": [
    "# majority classifier\n",
    "majority = train['final_status'].value_counts().index[0]\n",
    "\n",
    "y_pred = len(test['final_status']) * [majority]\n",
    "accuracy_score(test['final_status'], y_pred)"
   ]
  },
  {
   "cell_type": "code",
   "execution_count": 6,
   "metadata": {},
   "outputs": [],
   "source": [
    "# selecting features and target\n",
    "features = ['goal', \n",
    "        'campaign_length', \n",
    "        'launch_month', \n",
    "        'launch_day', \n",
    "        'launch_weekday', \n",
    "        'disable_communication',\n",
    "        'country', \n",
    "        'currency']\n",
    "\n",
    "target = 'final_status'"
   ]
  },
  {
   "cell_type": "code",
   "execution_count": 7,
   "metadata": {},
   "outputs": [
    {
     "output_type": "execute_result",
     "data": {
      "text/plain": "0.7691787003610109"
     },
     "metadata": {},
     "execution_count": 7
    }
   ],
   "source": [
    "# logistic regression - no change to class balance\n",
    "X_train = train[features]\n",
    "X_train_one_hot = encoder.fit_transform(X_train)\n",
    "\n",
    "y_train = train[target]\n",
    "\n",
    "X_test = test[features]\n",
    "X_test_one_hot = encoder.transform(X_test)\n",
    "\n",
    "y_test = test[target]\n",
    "\n",
    "\n",
    "model = LogisticRegression(solver='lbfgs')\n",
    "\n",
    "model.fit(X_train_one_hot, y_train)\n",
    "model.score(X_test_one_hot, y_test)"
   ]
  },
  {
   "cell_type": "code",
   "execution_count": 8,
   "metadata": {},
   "outputs": [
    {
     "output_type": "execute_result",
     "data": {
      "text/plain": "0    59932\n1    30469\nName: final_status, dtype: int64"
     },
     "metadata": {},
     "execution_count": 8
    }
   ],
   "source": [
    "# the classes are pretty imbalanced which is affecting the model\n",
    "train['final_status'].value_counts()"
   ]
  },
  {
   "cell_type": "code",
   "execution_count": 15,
   "metadata": {},
   "outputs": [
    {
     "output_type": "execute_result",
     "data": {
      "text/plain": "0.5402752707581228"
     },
     "metadata": {},
     "execution_count": 15
    }
   ],
   "source": [
    "# logistic regression - upsampling minority class\n",
    "train_upsampled = upsample_minority(train)\n",
    "\n",
    "X_train = train_upsampled[features]\n",
    "X_train_one_hot = encoder.fit_transform(X_train)\n",
    "\n",
    "y_train = train_upsampled[target]\n",
    "\n",
    "\n",
    "X_test = test[features]\n",
    "X_test_one_hot = encoder.transform(X_test)\n",
    "\n",
    "y_test = test[target]\n",
    "\n",
    "model = LogisticRegression(solver='lbfgs')\n",
    "\n",
    "model.fit(X_train_one_hot, y_train)\n",
    "model.score(X_test_one_hot, y_test)"
   ]
  },
  {
   "cell_type": "code",
   "execution_count": 16,
   "metadata": {},
   "outputs": [
    {
     "output_type": "execute_result",
     "data": {
      "text/plain": "0.5781814079422383"
     },
     "metadata": {},
     "execution_count": 16
    }
   ],
   "source": [
    "# logistic regression - downsampling majority class\n",
    "train_downsampled = downsample_majority(train)\n",
    "\n",
    "X_train = train_downsampled[features]\n",
    "X_train_one_hot = encoder.fit_transform(X_train)\n",
    "\n",
    "y_train = train_downsampled[target]\n",
    "\n",
    "\n",
    "X_test = test[features]\n",
    "X_test_one_hot = encoder.transform(X_test)\n",
    "\n",
    "y_test = test[target]\n",
    "\n",
    "model = LogisticRegression(solver='lbfgs')\n",
    "\n",
    "model.fit(X_train_one_hot, y_train)\n",
    "model.score(X_test_one_hot, y_test)"
   ]
  }
 ]
}