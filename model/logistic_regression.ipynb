{
 "metadata": {
  "language_info": {
   "codemirror_mode": {
    "name": "ipython",
    "version": 3
   },
   "file_extension": ".py",
   "mimetype": "text/x-python",
   "name": "python",
   "nbconvert_exporter": "python",
   "pygments_lexer": "ipython3",
   "version": "3.8.5-final"
  },
  "orig_nbformat": 2,
  "kernelspec": {
   "name": "python3",
   "display_name": "Python 3"
  }
 },
 "nbformat": 4,
 "nbformat_minor": 2,
 "cells": [
  {
   "cell_type": "code",
   "execution_count": 108,
   "metadata": {},
   "outputs": [],
   "source": [
    "# imports\n",
    "import pandas as pd\n",
    "import os\n",
    "from sklearn.metrics import accuracy_score\n",
    "from sklearn.linear_model import LogisticRegression\n",
    "from sklearn.impute import SimpleImputer\n",
    "import category_encoders as ce"
   ]
  },
  {
   "cell_type": "code",
   "execution_count": 130,
   "metadata": {},
   "outputs": [],
   "source": [
    "# loading data\n",
    "\n",
    "# commenting this out while working locally in jupyter notebook\n",
    "# FILE_PATH = os.path.join(os.path.dirname(__file__), 'data' 'initial_cleaned_data.csv')\n",
    "\n",
    "FILE_PATH = '/home/zham/DS/model/data/initial_cleaned_data.csv'\n",
    "\n",
    "df = pd.read_csv(FILE_PATH, index_col=None)"
   ]
  },
  {
   "cell_type": "code",
   "execution_count": 131,
   "metadata": {},
   "outputs": [
    {
     "output_type": "execute_result",
     "data": {
      "text/plain": "                                                name  \\\n0                                drawing for dollars   \n1  Sponsor Dereck Blackburn (Lostwars) Artist in ...   \n2                                      Mr. Squiggles   \n3                     Help me write my second novel.   \n4             Support casting my sculpture in bronze   \n\n                                                desc    goal  \\\n0  I like drawing pictures. and then i color them...    20.0   \n1  I, Dereck Blackburn will be taking upon an inc...   300.0   \n2  So I saw darkpony's successfully funded drawin...    30.0   \n3  Do your part to help out starving artists and ...   500.0   \n4  I'm nearing completion on a sculpture, current...  2000.0   \n\n   disable_communication country currency             deadline  \\\n0                      0      US      USD  2009-05-03 02:59:59   \n1                      0      US      USD  2009-05-15 19:10:00   \n2                      0      US      USD  2009-05-22 17:26:00   \n3                      0      US      USD  2009-05-28 20:09:00   \n4                      0      US      USD  2009-05-31 07:38:00   \n\n           launched_at  final_status  campaign_length  launch_year  \\\n0  2009-04-24 15:52:03             1                8         2009   \n1  2009-04-28 23:26:32             0               17         2009   \n2  2009-05-12 17:39:58             0               10         2009   \n3  2009-04-28 20:58:50             1               30         2009   \n4  2009-05-01 08:22:21             0               30         2009   \n\n   launch_month  launch_day  launch_weekday  \n0             4          24               4  \n1             4          28               1  \n2             5          12               1  \n3             4          28               1  \n4             5           1               4  ",
      "text/html": "<div>\n<style scoped>\n    .dataframe tbody tr th:only-of-type {\n        vertical-align: middle;\n    }\n\n    .dataframe tbody tr th {\n        vertical-align: top;\n    }\n\n    .dataframe thead th {\n        text-align: right;\n    }\n</style>\n<table border=\"1\" class=\"dataframe\">\n  <thead>\n    <tr style=\"text-align: right;\">\n      <th></th>\n      <th>name</th>\n      <th>desc</th>\n      <th>goal</th>\n      <th>disable_communication</th>\n      <th>country</th>\n      <th>currency</th>\n      <th>deadline</th>\n      <th>launched_at</th>\n      <th>final_status</th>\n      <th>campaign_length</th>\n      <th>launch_year</th>\n      <th>launch_month</th>\n      <th>launch_day</th>\n      <th>launch_weekday</th>\n    </tr>\n  </thead>\n  <tbody>\n    <tr>\n      <th>0</th>\n      <td>drawing for dollars</td>\n      <td>I like drawing pictures. and then i color them...</td>\n      <td>20.0</td>\n      <td>0</td>\n      <td>US</td>\n      <td>USD</td>\n      <td>2009-05-03 02:59:59</td>\n      <td>2009-04-24 15:52:03</td>\n      <td>1</td>\n      <td>8</td>\n      <td>2009</td>\n      <td>4</td>\n      <td>24</td>\n      <td>4</td>\n    </tr>\n    <tr>\n      <th>1</th>\n      <td>Sponsor Dereck Blackburn (Lostwars) Artist in ...</td>\n      <td>I, Dereck Blackburn will be taking upon an inc...</td>\n      <td>300.0</td>\n      <td>0</td>\n      <td>US</td>\n      <td>USD</td>\n      <td>2009-05-15 19:10:00</td>\n      <td>2009-04-28 23:26:32</td>\n      <td>0</td>\n      <td>17</td>\n      <td>2009</td>\n      <td>4</td>\n      <td>28</td>\n      <td>1</td>\n    </tr>\n    <tr>\n      <th>2</th>\n      <td>Mr. Squiggles</td>\n      <td>So I saw darkpony's successfully funded drawin...</td>\n      <td>30.0</td>\n      <td>0</td>\n      <td>US</td>\n      <td>USD</td>\n      <td>2009-05-22 17:26:00</td>\n      <td>2009-05-12 17:39:58</td>\n      <td>0</td>\n      <td>10</td>\n      <td>2009</td>\n      <td>5</td>\n      <td>12</td>\n      <td>1</td>\n    </tr>\n    <tr>\n      <th>3</th>\n      <td>Help me write my second novel.</td>\n      <td>Do your part to help out starving artists and ...</td>\n      <td>500.0</td>\n      <td>0</td>\n      <td>US</td>\n      <td>USD</td>\n      <td>2009-05-28 20:09:00</td>\n      <td>2009-04-28 20:58:50</td>\n      <td>1</td>\n      <td>30</td>\n      <td>2009</td>\n      <td>4</td>\n      <td>28</td>\n      <td>1</td>\n    </tr>\n    <tr>\n      <th>4</th>\n      <td>Support casting my sculpture in bronze</td>\n      <td>I'm nearing completion on a sculpture, current...</td>\n      <td>2000.0</td>\n      <td>0</td>\n      <td>US</td>\n      <td>USD</td>\n      <td>2009-05-31 07:38:00</td>\n      <td>2009-05-01 08:22:21</td>\n      <td>0</td>\n      <td>30</td>\n      <td>2009</td>\n      <td>5</td>\n      <td>1</td>\n      <td>4</td>\n    </tr>\n  </tbody>\n</table>\n</div>"
     },
     "metadata": {},
     "execution_count": 131
    }
   ],
   "source": [
    "df.head()"
   ]
  },
  {
   "cell_type": "code",
   "execution_count": 83,
   "metadata": {},
   "outputs": [
    {
     "output_type": "execute_result",
     "data": {
      "text/plain": "0.7319068428906417"
     },
     "metadata": {},
     "execution_count": 83
    }
   ],
   "source": [
    "# majority classifier baseline\n",
    "majority = train['final_status'].value_counts().index[0]\n",
    "\n",
    "y_pred = len(test['final_status']) * [majority]\n",
    "accuracy_score(test['final_status'], y_pred)"
   ]
  },
  {
   "cell_type": "code",
   "execution_count": 132,
   "metadata": {},
   "outputs": [],
   "source": [
    "encoder = ce.one_hot.OneHotEncoder(use_cat_names=True)\n",
    "\n",
    "train = df[df['launch_year'] < 2014]\n",
    "test = df[df['launch_year'] == 2014]\n",
    "\n",
    "features = ['goal', 'campaign_length', 'launch_month', 'launch_day', 'launch_weekday', 'disable_communication',\n",
    "'country', 'currency']\n",
    "target = 'final_status'\n",
    "\n",
    "X_train = train[features]\n",
    "X_train_one_hot = encoder.fit_transform(X_train)\n",
    "\n",
    "y_train = train[target]\n",
    "\n",
    "\n",
    "X_test = test[features]\n",
    "X_test_one_hot = encoder.transform(X_test)\n",
    "\n",
    "y_test = test[target]\n"
   ]
  },
  {
   "cell_type": "code",
   "execution_count": 133,
   "metadata": {},
   "outputs": [
    {
     "output_type": "execute_result",
     "data": {
      "text/plain": "          goal  campaign_length  launch_month  launch_day  launch_weekday  \\\n0         20.0                8             4          24               4   \n1        300.0               17             4          28               1   \n2         30.0               10             5          12               1   \n3        500.0               30             4          28               1   \n4       2000.0               30             5           1               4   \n...        ...              ...           ...         ...             ...   \n54068  11000.0               60            12          30               0   \n54069  10000.0               60            12          30               0   \n54082   3000.0               60            12          30               0   \n54125  15000.0               60            12          31               1   \n54155  15000.0               60            12          31               1   \n\n       disable_communication  country_US  country_GB  country_CA  country_AU  \\\n0                          0           1           0           0           0   \n1                          0           1           0           0           0   \n2                          0           1           0           0           0   \n3                          0           1           0           0           0   \n4                          0           1           0           0           0   \n...                      ...         ...         ...         ...         ...   \n54068                      0           1           0           0           0   \n54069                      0           0           0           0           0   \n54082                      0           1           0           0           0   \n54125                      0           1           0           0           0   \n54155                      0           1           0           0           0   \n\n       country_NZ  currency_USD  currency_GBP  currency_CAD  currency_AUD  \\\n0               0             1             0             0             0   \n1               0             1             0             0             0   \n2               0             1             0             0             0   \n3               0             1             0             0             0   \n4               0             1             0             0             0   \n...           ...           ...           ...           ...           ...   \n54068           0             1             0             0             0   \n54069           1             0             0             0             0   \n54082           0             1             0             0             0   \n54125           0             1             0             0             0   \n54155           0             1             0             0             0   \n\n       currency_NZD  \n0                 0  \n1                 0  \n2                 0  \n3                 0  \n4                 0  \n...             ...  \n54068             0  \n54069             1  \n54082             0  \n54125             0  \n54155             0  \n\n[52873 rows x 16 columns]",
      "text/html": "<div>\n<style scoped>\n    .dataframe tbody tr th:only-of-type {\n        vertical-align: middle;\n    }\n\n    .dataframe tbody tr th {\n        vertical-align: top;\n    }\n\n    .dataframe thead th {\n        text-align: right;\n    }\n</style>\n<table border=\"1\" class=\"dataframe\">\n  <thead>\n    <tr style=\"text-align: right;\">\n      <th></th>\n      <th>goal</th>\n      <th>campaign_length</th>\n      <th>launch_month</th>\n      <th>launch_day</th>\n      <th>launch_weekday</th>\n      <th>disable_communication</th>\n      <th>country_US</th>\n      <th>country_GB</th>\n      <th>country_CA</th>\n      <th>country_AU</th>\n      <th>country_NZ</th>\n      <th>currency_USD</th>\n      <th>currency_GBP</th>\n      <th>currency_CAD</th>\n      <th>currency_AUD</th>\n      <th>currency_NZD</th>\n    </tr>\n  </thead>\n  <tbody>\n    <tr>\n      <th>0</th>\n      <td>20.0</td>\n      <td>8</td>\n      <td>4</td>\n      <td>24</td>\n      <td>4</td>\n      <td>0</td>\n      <td>1</td>\n      <td>0</td>\n      <td>0</td>\n      <td>0</td>\n      <td>0</td>\n      <td>1</td>\n      <td>0</td>\n      <td>0</td>\n      <td>0</td>\n      <td>0</td>\n    </tr>\n    <tr>\n      <th>1</th>\n      <td>300.0</td>\n      <td>17</td>\n      <td>4</td>\n      <td>28</td>\n      <td>1</td>\n      <td>0</td>\n      <td>1</td>\n      <td>0</td>\n      <td>0</td>\n      <td>0</td>\n      <td>0</td>\n      <td>1</td>\n      <td>0</td>\n      <td>0</td>\n      <td>0</td>\n      <td>0</td>\n    </tr>\n    <tr>\n      <th>2</th>\n      <td>30.0</td>\n      <td>10</td>\n      <td>5</td>\n      <td>12</td>\n      <td>1</td>\n      <td>0</td>\n      <td>1</td>\n      <td>0</td>\n      <td>0</td>\n      <td>0</td>\n      <td>0</td>\n      <td>1</td>\n      <td>0</td>\n      <td>0</td>\n      <td>0</td>\n      <td>0</td>\n    </tr>\n    <tr>\n      <th>3</th>\n      <td>500.0</td>\n      <td>30</td>\n      <td>4</td>\n      <td>28</td>\n      <td>1</td>\n      <td>0</td>\n      <td>1</td>\n      <td>0</td>\n      <td>0</td>\n      <td>0</td>\n      <td>0</td>\n      <td>1</td>\n      <td>0</td>\n      <td>0</td>\n      <td>0</td>\n      <td>0</td>\n    </tr>\n    <tr>\n      <th>4</th>\n      <td>2000.0</td>\n      <td>30</td>\n      <td>5</td>\n      <td>1</td>\n      <td>4</td>\n      <td>0</td>\n      <td>1</td>\n      <td>0</td>\n      <td>0</td>\n      <td>0</td>\n      <td>0</td>\n      <td>1</td>\n      <td>0</td>\n      <td>0</td>\n      <td>0</td>\n      <td>0</td>\n    </tr>\n    <tr>\n      <th>...</th>\n      <td>...</td>\n      <td>...</td>\n      <td>...</td>\n      <td>...</td>\n      <td>...</td>\n      <td>...</td>\n      <td>...</td>\n      <td>...</td>\n      <td>...</td>\n      <td>...</td>\n      <td>...</td>\n      <td>...</td>\n      <td>...</td>\n      <td>...</td>\n      <td>...</td>\n      <td>...</td>\n    </tr>\n    <tr>\n      <th>54068</th>\n      <td>11000.0</td>\n      <td>60</td>\n      <td>12</td>\n      <td>30</td>\n      <td>0</td>\n      <td>0</td>\n      <td>1</td>\n      <td>0</td>\n      <td>0</td>\n      <td>0</td>\n      <td>0</td>\n      <td>1</td>\n      <td>0</td>\n      <td>0</td>\n      <td>0</td>\n      <td>0</td>\n    </tr>\n    <tr>\n      <th>54069</th>\n      <td>10000.0</td>\n      <td>60</td>\n      <td>12</td>\n      <td>30</td>\n      <td>0</td>\n      <td>0</td>\n      <td>0</td>\n      <td>0</td>\n      <td>0</td>\n      <td>0</td>\n      <td>1</td>\n      <td>0</td>\n      <td>0</td>\n      <td>0</td>\n      <td>0</td>\n      <td>1</td>\n    </tr>\n    <tr>\n      <th>54082</th>\n      <td>3000.0</td>\n      <td>60</td>\n      <td>12</td>\n      <td>30</td>\n      <td>0</td>\n      <td>0</td>\n      <td>1</td>\n      <td>0</td>\n      <td>0</td>\n      <td>0</td>\n      <td>0</td>\n      <td>1</td>\n      <td>0</td>\n      <td>0</td>\n      <td>0</td>\n      <td>0</td>\n    </tr>\n    <tr>\n      <th>54125</th>\n      <td>15000.0</td>\n      <td>60</td>\n      <td>12</td>\n      <td>31</td>\n      <td>1</td>\n      <td>0</td>\n      <td>1</td>\n      <td>0</td>\n      <td>0</td>\n      <td>0</td>\n      <td>0</td>\n      <td>1</td>\n      <td>0</td>\n      <td>0</td>\n      <td>0</td>\n      <td>0</td>\n    </tr>\n    <tr>\n      <th>54155</th>\n      <td>15000.0</td>\n      <td>60</td>\n      <td>12</td>\n      <td>31</td>\n      <td>1</td>\n      <td>0</td>\n      <td>1</td>\n      <td>0</td>\n      <td>0</td>\n      <td>0</td>\n      <td>0</td>\n      <td>1</td>\n      <td>0</td>\n      <td>0</td>\n      <td>0</td>\n      <td>0</td>\n    </tr>\n  </tbody>\n</table>\n<p>52873 rows × 16 columns</p>\n</div>"
     },
     "metadata": {},
     "execution_count": 133
    }
   ],
   "source": [
    "X_train_one_hot"
   ]
  },
  {
   "cell_type": "code",
   "execution_count": 134,
   "metadata": {},
   "outputs": [
    {
     "output_type": "execute_result",
     "data": {
      "text/plain": "0.7319068428906417"
     },
     "metadata": {},
     "execution_count": 134
    }
   ],
   "source": [
    "# logistic regression baseline\n",
    "# no matter what i did could not beat baseline\n",
    "model = LogisticRegression(solver='lbfgs')\n",
    "\n",
    "model.fit(X_train_one_hot, y_train)\n",
    "model.score(X_test_one_hot, y_test)"
   ]
  },
  {
   "cell_type": "code",
   "execution_count": null,
   "metadata": {},
   "outputs": [],
   "source": []
  }
 ]
}