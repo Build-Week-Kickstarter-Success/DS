{
 "metadata": {
  "language_info": {
   "codemirror_mode": {
    "name": "ipython",
    "version": 3
   },
   "file_extension": ".py",
   "mimetype": "text/x-python",
   "name": "python",
   "nbconvert_exporter": "python",
   "pygments_lexer": "ipython3",
   "version": "3.8.5-final"
  },
  "orig_nbformat": 2,
  "kernelspec": {
   "name": "python3",
   "display_name": "Python 3"
  }
 },
 "nbformat": 4,
 "nbformat_minor": 2,
 "cells": [
  {
   "cell_type": "code",
   "execution_count": 3,
   "metadata": {},
   "outputs": [],
   "source": [
    "# imports\n",
    "import os\n",
    "import pandas as pd\n",
    "import datetime"
   ]
  },
  {
   "cell_type": "code",
   "execution_count": 21,
   "metadata": {},
   "outputs": [],
   "source": [
    "# loading the data into a df \n",
    "\n",
    "# commenting this out becasue it does not work in jupyter notebook\n",
    "# FILE_PATH = os.path.join(os.path.dirname(__file__), 'data' 'raw_data.csv')\n",
    "\n",
    "FILE_PATH = '/home/zham/DS/model/data/raw_data.csv' # local path to use while in jupyter notebook\n",
    "\n",
    "df = pd.read_csv(FILE_PATH)\n",
    "\n",
    "# dropping unneeded columns\n",
    "df = df.drop(['keywords', 'state_changed_at', 'created_at', 'backers_count'], axis=1)\n",
    "\n",
    "# creating project id as its own series to save for later and removing it from df\n",
    "project_id = df['project_id']\n",
    "df = df.drop(['project_id'], axis=1)\n",
    "\n",
    "# turning disable_communication into a boolean\n",
    "df['disable_communication'] = df['disable_communication'].apply(lambda x: 1 if x == True else 0)\n",
    "\n",
    "# converting from unix timecode to datetime\n",
    "df['deadline'] = df['deadline'].apply(lambda x: datetime.datetime.fromtimestamp(x).strftime('%Y-%m-%d %H:%M:%S'))\n",
    "df['deadline'] = df['deadline'].apply(lambda x: pd.to_datetime(x, infer_datetime_format=True))\n",
    "\n",
    "df['launched_at'] = df['launched_at'].apply(lambda x: datetime.datetime.fromtimestamp(x).strftime('%Y-%m-%d %H:%M:%S'))\n",
    "df['launched_at'] = df['launched_at'].apply(lambda x: pd.to_datetime(x, infer_datetime_format=True))\n",
    "\n",
    "# creating campaign length feature\n",
    "df['campaign_length'] = df['deadline'] - df['launched_at']\n",
    "\n",
    "# breaking launched_at datetime into its component parts\n",
    "df['launch_year'] = df['launched_at'].apply(lambda x: x.year)\n",
    "df['launch_month'] = df['launched_at'].apply(lambda x: x.month)\n",
    "df['launch_day'] = df['launched_at'].apply(lambda x: x.day)\n",
    "df['launch_weekday'] = df['launched_at'].apply(lambda x: x.weekday())\n",
    "\n",
    "# turning campaign length from time delta to int\n",
    "df['campaign_length'] = df['campaign_length'].apply(lambda x: x.round('1d').days)"
   ]
  },
  {
   "cell_type": "code",
   "execution_count": 22,
   "metadata": {},
   "outputs": [
    {
     "output_type": "execute_result",
     "data": {
      "text/plain": "                                                name  \\\n0                                drawing for dollars   \n1  Sponsor Dereck Blackburn (Lostwars) Artist in ...   \n2                                      Mr. Squiggles   \n3                     Help me write my second novel.   \n4             Support casting my sculpture in bronze   \n\n                                                desc    goal  \\\n0  I like drawing pictures. and then i color them...    20.0   \n1  I, Dereck Blackburn will be taking upon an inc...   300.0   \n2  So I saw darkpony's successfully funded drawin...    30.0   \n3  Do your part to help out starving artists and ...   500.0   \n4  I'm nearing completion on a sculpture, current...  2000.0   \n\n   disable_communication country currency            deadline  \\\n0                      0      US      USD 2009-05-03 02:59:59   \n1                      0      US      USD 2009-05-15 19:10:00   \n2                      0      US      USD 2009-05-22 17:26:00   \n3                      0      US      USD 2009-05-28 20:09:00   \n4                      0      US      USD 2009-05-31 07:38:00   \n\n          launched_at  final_status  campaign_length  launch_year  \\\n0 2009-04-24 15:52:03             1                8         2009   \n1 2009-04-28 23:26:32             0               17         2009   \n2 2009-05-12 17:39:58             0               10         2009   \n3 2009-04-28 20:58:50             1               30         2009   \n4 2009-05-01 08:22:21             0               30         2009   \n\n   launch_month  launch_day  launch_weekday  \n0             4          24               4  \n1             4          28               1  \n2             5          12               1  \n3             4          28               1  \n4             5           1               4  ",
      "text/html": "<div>\n<style scoped>\n    .dataframe tbody tr th:only-of-type {\n        vertical-align: middle;\n    }\n\n    .dataframe tbody tr th {\n        vertical-align: top;\n    }\n\n    .dataframe thead th {\n        text-align: right;\n    }\n</style>\n<table border=\"1\" class=\"dataframe\">\n  <thead>\n    <tr style=\"text-align: right;\">\n      <th></th>\n      <th>name</th>\n      <th>desc</th>\n      <th>goal</th>\n      <th>disable_communication</th>\n      <th>country</th>\n      <th>currency</th>\n      <th>deadline</th>\n      <th>launched_at</th>\n      <th>final_status</th>\n      <th>campaign_length</th>\n      <th>launch_year</th>\n      <th>launch_month</th>\n      <th>launch_day</th>\n      <th>launch_weekday</th>\n    </tr>\n  </thead>\n  <tbody>\n    <tr>\n      <th>0</th>\n      <td>drawing for dollars</td>\n      <td>I like drawing pictures. and then i color them...</td>\n      <td>20.0</td>\n      <td>0</td>\n      <td>US</td>\n      <td>USD</td>\n      <td>2009-05-03 02:59:59</td>\n      <td>2009-04-24 15:52:03</td>\n      <td>1</td>\n      <td>8</td>\n      <td>2009</td>\n      <td>4</td>\n      <td>24</td>\n      <td>4</td>\n    </tr>\n    <tr>\n      <th>1</th>\n      <td>Sponsor Dereck Blackburn (Lostwars) Artist in ...</td>\n      <td>I, Dereck Blackburn will be taking upon an inc...</td>\n      <td>300.0</td>\n      <td>0</td>\n      <td>US</td>\n      <td>USD</td>\n      <td>2009-05-15 19:10:00</td>\n      <td>2009-04-28 23:26:32</td>\n      <td>0</td>\n      <td>17</td>\n      <td>2009</td>\n      <td>4</td>\n      <td>28</td>\n      <td>1</td>\n    </tr>\n    <tr>\n      <th>2</th>\n      <td>Mr. Squiggles</td>\n      <td>So I saw darkpony's successfully funded drawin...</td>\n      <td>30.0</td>\n      <td>0</td>\n      <td>US</td>\n      <td>USD</td>\n      <td>2009-05-22 17:26:00</td>\n      <td>2009-05-12 17:39:58</td>\n      <td>0</td>\n      <td>10</td>\n      <td>2009</td>\n      <td>5</td>\n      <td>12</td>\n      <td>1</td>\n    </tr>\n    <tr>\n      <th>3</th>\n      <td>Help me write my second novel.</td>\n      <td>Do your part to help out starving artists and ...</td>\n      <td>500.0</td>\n      <td>0</td>\n      <td>US</td>\n      <td>USD</td>\n      <td>2009-05-28 20:09:00</td>\n      <td>2009-04-28 20:58:50</td>\n      <td>1</td>\n      <td>30</td>\n      <td>2009</td>\n      <td>4</td>\n      <td>28</td>\n      <td>1</td>\n    </tr>\n    <tr>\n      <th>4</th>\n      <td>Support casting my sculpture in bronze</td>\n      <td>I'm nearing completion on a sculpture, current...</td>\n      <td>2000.0</td>\n      <td>0</td>\n      <td>US</td>\n      <td>USD</td>\n      <td>2009-05-31 07:38:00</td>\n      <td>2009-05-01 08:22:21</td>\n      <td>0</td>\n      <td>30</td>\n      <td>2009</td>\n      <td>5</td>\n      <td>1</td>\n      <td>4</td>\n    </tr>\n  </tbody>\n</table>\n</div>"
     },
     "metadata": {},
     "execution_count": 22
    }
   ],
   "source": [
    "df.head()"
   ]
  },
  {
   "cell_type": "code",
   "execution_count": 23,
   "metadata": {},
   "outputs": [],
   "source": [
    "df.to_csv('initial_cleaned_data.csv', index=False)"
   ]
  },
  {
   "cell_type": "code",
   "execution_count": null,
   "metadata": {},
   "outputs": [],
   "source": []
  }
 ]
}