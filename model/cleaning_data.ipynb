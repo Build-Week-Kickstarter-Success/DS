{
 "metadata": {
  "language_info": {
   "codemirror_mode": {
    "name": "ipython",
    "version": 3
   },
   "file_extension": ".py",
   "mimetype": "text/x-python",
   "name": "python",
   "nbconvert_exporter": "python",
   "pygments_lexer": "ipython3",
   "version": "3.8.5-final"
  },
  "orig_nbformat": 2,
  "kernelspec": {
   "name": "python3",
   "display_name": "Python 3"
  }
 },
 "nbformat": 4,
 "nbformat_minor": 2,
 "cells": [
  {
   "cell_type": "code",
   "execution_count": 3,
   "metadata": {},
   "outputs": [],
   "source": [
    "# imports\n",
    "import os\n",
    "import pandas as pd\n",
    "import datetime"
   ]
  },
  {
   "cell_type": "code",
   "execution_count": 21,
   "metadata": {},
   "outputs": [],
   "source": [
    "# loading the data into a df \n",
    "\n",
    "# commenting this out becasue it does not work in jupyter notebook\n",
    "# FILE_PATH = os.path.join(os.path.dirname(__file__), 'data' 'raw_data.csv')\n",
    "\n",
    "FILE_PATH = '/home/zham/DS/model/data/raw_data.csv' # local path to use while in jupyter notebook\n",
    "\n",
    "df = pd.read_csv(FILE_PATH)\n",
    "\n",
    "# dropping unneeded columns\n",
    "df = df.drop(['keywords', 'state_changed_at', 'created_at', 'backers_count'], axis=1)\n",
    "\n",
    "# creating project id as its own series to save for later and removing it from df\n",
    "project_id = df['project_id']\n",
    "df = df.drop(['project_id'], axis=1)\n",
    "\n",
    "# turning disable_communication into a boolean\n",
    "df['disable_communication'] = df['disable_communication'].apply(lambda x: 1 if x == True else 0)\n",
    "\n",
    "# converting from unix timecode to datetime\n",
    "df['deadline'] = df['deadline'].apply(lambda x: datetime.datetime.fromtimestamp(x).strftime('%Y-%m-%d %H:%M:%S'))\n",
    "df['deadline'] = df['deadline'].apply(lambda x: pd.to_datetime(x, infer_datetime_format=True))\n",
    "\n",
    "df['launched_at'] = df['launched_at'].apply(lambda x: datetime.datetime.fromtimestamp(x).strftime('%Y-%m-%d %H:%M:%S'))\n",
    "df['launched_at'] = df['launched_at'].apply(lambda x: pd.to_datetime(x, infer_datetime_format=True))\n",
    "\n",
    "# creating campaign length feature\n",
    "df['campaign_length'] = df['deadline'] - df['launched_at']\n",
    "\n",
    "# breaking launched_at datetime into its component parts\n",
    "df['launch_year'] = df['launched_at'].apply(lambda x: x.year)\n",
    "df['launch_month'] = df['launched_at'].apply(lambda x: x.month)\n",
    "df['launch_day'] = df['launched_at'].apply(lambda x: x.day)\n",
    "df['launch_weekday'] = df['launched_at'].apply(lambda x: x.weekday())\n",
    "\n",
    "# turning campaign length from time delta to int\n",
    "df['campaign_length'] = df['campaign_length'].apply(lambda x: x.round('1d').days)"
   ]
  },
  {
   "cell_type": "code",
   "execution_count": 22,
   "metadata": {},
   "outputs": [
    {
     "output_type": "execute_result",
     "data": {
      "text/plain": "                                                name  \\\n0                                drawing for dollars   \n1  Sponsor Dereck Blackburn (Lostwars) Artist in ...   \n2                                      Mr. Squiggles   \n3                     Help me write my second novel.   \n4             Support casting my sculpture in bronze   \n\n                                                desc    goal  \\\n0  I like drawing pictures. and then i color them...    20.0   \n1  I, Dereck Blackburn will be taking upon an inc...   300.0   \n2  So I saw darkpony's successfully funded drawin...    30.0   \n3  Do your part to help out starving artists and ...   500.0   \n4  I'm nearing completion on a sculpture, current...  2000.0   \n\n   disable_communication country currency            deadline  \\\n0                      0      US      USD 2009-05-03 02:59:59   \n1                      0      US      USD 2009-05-15 19:10:00   \n2                      0      US      USD 2009-05-22 17:26:00   \n3                      0      US      USD 2009-05-28 20:09:00   \n4                      0      US      USD 2009-05-31 07:38:00   \n\n          launched_at  final_status  campaign_length  launch_year  \\\n0 2009-04-24 15:52:03             1                8         2009   \n1 2009-04-28 23:26:32             0               17         2009   \n2 2009-05-12 17:39:58             0               10         2009   \n3 2009-04-28 20:58:50             1               30         2009   \n4 2009-05-01 08:22:21             0               30         2009   \n\n   launch_month  launch_day  launch_weekday  \n0             4          24               4  \n1             4          28               1  \n2             5          12               1  \n3             4          28               1  \n4             5           1               4  ",
      "text/html": "<div>\n<style scoped>\n    .dataframe tbody tr th:only-of-type {\n        vertical-align: middle;\n    }\n\n    .dataframe tbody tr th {\n        vertical-align: top;\n    }\n\n    .dataframe thead th {\n        text-align: right;\n    }\n</style>\n<table border=\"1\" class=\"dataframe\">\n  <thead>\n    <tr style=\"text-align: right;\">\n      <th></th>\n      <th>name</th>\n      <th>desc</th>\n      <th>goal</th>\n      <th>disable_communication</th>\n      <th>country</th>\n      <th>currency</th>\n      <th>deadline</th>\n      <th>launched_at</th>\n      <th>final_status</th>\n      <th>campaign_length</th>\n      <th>launch_year</th>\n      <th>launch_month</th>\n      <th>launch_day</th>\n      <th>launch_weekday</th>\n    </tr>\n  </thead>\n  <tbody>\n    <tr>\n      <th>0</th>\n      <td>drawing for dollars</td>\n      <td>I like drawing pictures. and then i color them...</td>\n      <td>20.0</td>\n      <td>0</td>\n      <td>US</td>\n      <td>USD</td>\n      <td>2009-05-03 02:59:59</td>\n      <td>2009-04-24 15:52:03</td>\n      <td>1</td>\n      <td>8</td>\n      <td>2009</td>\n      <td>4</td>\n      <td>24</td>\n      <td>4</td>\n    </tr>\n    <tr>\n      <th>1</th>\n      <td>Sponsor Dereck Blackburn (Lostwars) Artist in ...</td>\n      <td>I, Dereck Blackburn will be taking upon an inc...</td>\n      <td>300.0</td>\n      <td>0</td>\n      <td>US</td>\n      <td>USD</td>\n      <td>2009-05-15 19:10:00</td>\n      <td>2009-04-28 23:26:32</td>\n      <td>0</td>\n      <td>17</td>\n      <td>2009</td>\n      <td>4</td>\n      <td>28</td>\n      <td>1</td>\n    </tr>\n    <tr>\n      <th>2</th>\n      <td>Mr. Squiggles</td>\n      <td>So I saw darkpony's successfully funded drawin...</td>\n      <td>30.0</td>\n      <td>0</td>\n      <td>US</td>\n      <td>USD</td>\n      <td>2009-05-22 17:26:00</td>\n      <td>2009-05-12 17:39:58</td>\n      <td>0</td>\n      <td>10</td>\n      <td>2009</td>\n      <td>5</td>\n      <td>12</td>\n      <td>1</td>\n    </tr>\n    <tr>\n      <th>3</th>\n      <td>Help me write my second novel.</td>\n      <td>Do your part to help out starving artists and ...</td>\n      <td>500.0</td>\n      <td>0</td>\n      <td>US</td>\n      <td>USD</td>\n      <td>2009-05-28 20:09:00</td>\n      <td>2009-04-28 20:58:50</td>\n      <td>1</td>\n      <td>30</td>\n      <td>2009</td>\n      <td>4</td>\n      <td>28</td>\n      <td>1</td>\n    </tr>\n    <tr>\n      <th>4</th>\n      <td>Support casting my sculpture in bronze</td>\n      <td>I'm nearing completion on a sculpture, current...</td>\n      <td>2000.0</td>\n      <td>0</td>\n      <td>US</td>\n      <td>USD</td>\n      <td>2009-05-31 07:38:00</td>\n      <td>2009-05-01 08:22:21</td>\n      <td>0</td>\n      <td>30</td>\n      <td>2009</td>\n      <td>5</td>\n      <td>1</td>\n      <td>4</td>\n    </tr>\n  </tbody>\n</table>\n</div>"
     },
     "metadata": {},
     "execution_count": 22
    }
   ],
   "source": [
    "df.head()"
   ]
  },
  {
   "cell_type": "code",
   "execution_count": 23,
   "metadata": {},
   "outputs": [],
   "source": [
    "df.to_csv('initial_cleaned_data.csv', index=False)"
   ]
  },
  {
   "cell_type": "code",
   "execution_count": 25,
   "metadata": {},
   "outputs": [
    {
     "output_type": "execute_result",
     "data": {
      "text/plain": "USD    92033\nGBP     8758\nCAD     3736\nAUD     1880\nEUR      817\nNZD      355\nSEK      240\nDKK      196\nNOK      114\nName: currency, dtype: int64"
     },
     "metadata": {},
     "execution_count": 25
    }
   ],
   "source": [
    "df['currency'].value_counts()"
   ]
  },
  {
   "cell_type": "code",
   "execution_count": 26,
   "metadata": {},
   "outputs": [],
   "source": [
    "val = pd.read_csv('/home/zham/DS/model/data/Kickstarter.csv')"
   ]
  },
  {
   "cell_type": "code",
   "execution_count": 27,
   "metadata": {},
   "outputs": [
    {
     "output_type": "execute_result",
     "data": {
      "text/plain": "   backers_count                                              blurb  \\\n0              3  I am painting a Mural in San Francisco on Polk...   \n1            274  Specialty instant coffee from top US roasters,...   \n2             82  Milwaukee’s newest craft brewery, focusing on ...   \n3              9  I'm a full-time studio potter making the BMW o...   \n4            579  A full color, 208 page anthology of all-new il...   \n\n                                            category  \\\n0  {\"id\":24,\"name\":\"Performance Art\",\"slug\":\"art/...   \n1  {\"id\":307,\"name\":\"Drinks\",\"slug\":\"food/drinks\"...   \n2  {\"id\":307,\"name\":\"Drinks\",\"slug\":\"food/drinks\"...   \n3  {\"id\":287,\"name\":\"Ceramics\",\"slug\":\"art/cerami...   \n4  {\"id\":249,\"name\":\"Anthologies\",\"slug\":\"comics/...   \n\n   converted_pledged_amount country  created_at  \\\n0                        45      US  1301443012   \n1                     27121      US  1467652500   \n2                     10636      US  1538730098   \n3                       352      US  1409025510   \n4                     24495      CA  1508514988   \n\n                                             creator currency currency_symbol  \\\n0  {\"id\":483566317,\"name\":\"Sirron Norris\",\"is_reg...      USD               $   \n1  {\"id\":993748579,\"name\":\"Kent Sheridan\",\"is_reg...      USD               $   \n2  {\"id\":1739366281,\"name\":\"Nick Kocis\",\"is_regis...      USD               $   \n3  {\"id\":1287889826,\"name\":\"Careen Stoll\",\"is_reg...      USD               $   \n4  {\"id\":1031125241,\"name\":\"Mariah Jarvis\",\"is_re...      CAD               $   \n\n   currency_trailing_code  ...  \\\n0                    True  ...   \n1                    True  ...   \n2                    True  ...   \n3                    True  ...   \n4                    True  ...   \n\n                                                slug  \\\n0                      the-polk-street-mural-project   \n1  voila-specialty-instant-coffee-worlds-best-ins...   \n2                               dead-bird-brewing-co   \n3                              fermenting-for-health   \n4                   wanderlust-a-mythology-anthology   \n\n                                          source_url  spotlight staff_pick  \\\n0  https://www.kickstarter.com/discover/categorie...      False      False   \n1  https://www.kickstarter.com/discover/categorie...       True       True   \n2  https://www.kickstarter.com/discover/categorie...       True      False   \n3  https://www.kickstarter.com/discover/categorie...      False      False   \n4  https://www.kickstarter.com/discover/categorie...       True       True   \n\n        state  state_changed_at  static_usd_rate  \\\n0    canceled        1304547294         1.000000   \n1  successful        1472828209         1.000000   \n2  successful        1553985061         1.000000   \n3      failed        1410753480         1.000000   \n4  successful        1513868726         0.781913   \n\n                                                urls   usd_pledged  usd_type  \n0  {\"web\":{\"project\":\"https://www.kickstarter.com...     45.000000  domestic  \n1  {\"web\":{\"project\":\"https://www.kickstarter.com...  27121.000000  domestic  \n2  {\"web\":{\"project\":\"https://www.kickstarter.com...  10636.000000  domestic  \n3  {\"web\":{\"project\":\"https://www.kickstarter.com...    352.000000  domestic  \n4  {\"web\":{\"project\":\"https://www.kickstarter.com...  24567.328071  domestic  \n\n[5 rows x 37 columns]",
      "text/html": "<div>\n<style scoped>\n    .dataframe tbody tr th:only-of-type {\n        vertical-align: middle;\n    }\n\n    .dataframe tbody tr th {\n        vertical-align: top;\n    }\n\n    .dataframe thead th {\n        text-align: right;\n    }\n</style>\n<table border=\"1\" class=\"dataframe\">\n  <thead>\n    <tr style=\"text-align: right;\">\n      <th></th>\n      <th>backers_count</th>\n      <th>blurb</th>\n      <th>category</th>\n      <th>converted_pledged_amount</th>\n      <th>country</th>\n      <th>created_at</th>\n      <th>creator</th>\n      <th>currency</th>\n      <th>currency_symbol</th>\n      <th>currency_trailing_code</th>\n      <th>...</th>\n      <th>slug</th>\n      <th>source_url</th>\n      <th>spotlight</th>\n      <th>staff_pick</th>\n      <th>state</th>\n      <th>state_changed_at</th>\n      <th>static_usd_rate</th>\n      <th>urls</th>\n      <th>usd_pledged</th>\n      <th>usd_type</th>\n    </tr>\n  </thead>\n  <tbody>\n    <tr>\n      <th>0</th>\n      <td>3</td>\n      <td>I am painting a Mural in San Francisco on Polk...</td>\n      <td>{\"id\":24,\"name\":\"Performance Art\",\"slug\":\"art/...</td>\n      <td>45</td>\n      <td>US</td>\n      <td>1301443012</td>\n      <td>{\"id\":483566317,\"name\":\"Sirron Norris\",\"is_reg...</td>\n      <td>USD</td>\n      <td>$</td>\n      <td>True</td>\n      <td>...</td>\n      <td>the-polk-street-mural-project</td>\n      <td>https://www.kickstarter.com/discover/categorie...</td>\n      <td>False</td>\n      <td>False</td>\n      <td>canceled</td>\n      <td>1304547294</td>\n      <td>1.000000</td>\n      <td>{\"web\":{\"project\":\"https://www.kickstarter.com...</td>\n      <td>45.000000</td>\n      <td>domestic</td>\n    </tr>\n    <tr>\n      <th>1</th>\n      <td>274</td>\n      <td>Specialty instant coffee from top US roasters,...</td>\n      <td>{\"id\":307,\"name\":\"Drinks\",\"slug\":\"food/drinks\"...</td>\n      <td>27121</td>\n      <td>US</td>\n      <td>1467652500</td>\n      <td>{\"id\":993748579,\"name\":\"Kent Sheridan\",\"is_reg...</td>\n      <td>USD</td>\n      <td>$</td>\n      <td>True</td>\n      <td>...</td>\n      <td>voila-specialty-instant-coffee-worlds-best-ins...</td>\n      <td>https://www.kickstarter.com/discover/categorie...</td>\n      <td>True</td>\n      <td>True</td>\n      <td>successful</td>\n      <td>1472828209</td>\n      <td>1.000000</td>\n      <td>{\"web\":{\"project\":\"https://www.kickstarter.com...</td>\n      <td>27121.000000</td>\n      <td>domestic</td>\n    </tr>\n    <tr>\n      <th>2</th>\n      <td>82</td>\n      <td>Milwaukee’s newest craft brewery, focusing on ...</td>\n      <td>{\"id\":307,\"name\":\"Drinks\",\"slug\":\"food/drinks\"...</td>\n      <td>10636</td>\n      <td>US</td>\n      <td>1538730098</td>\n      <td>{\"id\":1739366281,\"name\":\"Nick Kocis\",\"is_regis...</td>\n      <td>USD</td>\n      <td>$</td>\n      <td>True</td>\n      <td>...</td>\n      <td>dead-bird-brewing-co</td>\n      <td>https://www.kickstarter.com/discover/categorie...</td>\n      <td>True</td>\n      <td>False</td>\n      <td>successful</td>\n      <td>1553985061</td>\n      <td>1.000000</td>\n      <td>{\"web\":{\"project\":\"https://www.kickstarter.com...</td>\n      <td>10636.000000</td>\n      <td>domestic</td>\n    </tr>\n    <tr>\n      <th>3</th>\n      <td>9</td>\n      <td>I'm a full-time studio potter making the BMW o...</td>\n      <td>{\"id\":287,\"name\":\"Ceramics\",\"slug\":\"art/cerami...</td>\n      <td>352</td>\n      <td>US</td>\n      <td>1409025510</td>\n      <td>{\"id\":1287889826,\"name\":\"Careen Stoll\",\"is_reg...</td>\n      <td>USD</td>\n      <td>$</td>\n      <td>True</td>\n      <td>...</td>\n      <td>fermenting-for-health</td>\n      <td>https://www.kickstarter.com/discover/categorie...</td>\n      <td>False</td>\n      <td>False</td>\n      <td>failed</td>\n      <td>1410753480</td>\n      <td>1.000000</td>\n      <td>{\"web\":{\"project\":\"https://www.kickstarter.com...</td>\n      <td>352.000000</td>\n      <td>domestic</td>\n    </tr>\n    <tr>\n      <th>4</th>\n      <td>579</td>\n      <td>A full color, 208 page anthology of all-new il...</td>\n      <td>{\"id\":249,\"name\":\"Anthologies\",\"slug\":\"comics/...</td>\n      <td>24495</td>\n      <td>CA</td>\n      <td>1508514988</td>\n      <td>{\"id\":1031125241,\"name\":\"Mariah Jarvis\",\"is_re...</td>\n      <td>CAD</td>\n      <td>$</td>\n      <td>True</td>\n      <td>...</td>\n      <td>wanderlust-a-mythology-anthology</td>\n      <td>https://www.kickstarter.com/discover/categorie...</td>\n      <td>True</td>\n      <td>True</td>\n      <td>successful</td>\n      <td>1513868726</td>\n      <td>0.781913</td>\n      <td>{\"web\":{\"project\":\"https://www.kickstarter.com...</td>\n      <td>24567.328071</td>\n      <td>domestic</td>\n    </tr>\n  </tbody>\n</table>\n<p>5 rows × 37 columns</p>\n</div>"
     },
     "metadata": {},
     "execution_count": 27
    }
   ],
   "source": [
    "val.head()"
   ]
  },
  {
   "cell_type": "code",
   "execution_count": 28,
   "metadata": {},
   "outputs": [
    {
     "output_type": "execute_result",
     "data": {
      "text/plain": "Index(['name', 'desc', 'goal', 'disable_communication', 'country', 'currency',\n       'deadline', 'launched_at', 'final_status', 'campaign_length',\n       'launch_year', 'launch_month', 'launch_day', 'launch_weekday'],\n      dtype='object')"
     },
     "metadata": {},
     "execution_count": 28
    }
   ],
   "source": [
    "df.columns"
   ]
  },
  {
   "cell_type": "code",
   "execution_count": 29,
   "metadata": {},
   "outputs": [
    {
     "output_type": "execute_result",
     "data": {
      "text/plain": "Index(['backers_count', 'blurb', 'category', 'converted_pledged_amount',\n       'country', 'created_at', 'creator', 'currency', 'currency_symbol',\n       'currency_trailing_code', 'current_currency', 'deadline',\n       'disable_communication', 'friends', 'fx_rate', 'goal', 'id',\n       'is_backing', 'is_starrable', 'is_starred', 'launched_at', 'location',\n       'name', 'permissions', 'photo', 'pledged', 'profile', 'slug',\n       'source_url', 'spotlight', 'staff_pick', 'state', 'state_changed_at',\n       'static_usd_rate', 'urls', 'usd_pledged', 'usd_type'],\n      dtype='object')"
     },
     "metadata": {},
     "execution_count": 29
    }
   ],
   "source": [
    "val.columns"
   ]
  },
  {
   "cell_type": "code",
   "execution_count": 30,
   "metadata": {},
   "outputs": [],
   "source": [
    "\n",
    "val =  val[['name','blurb', 'goal', 'disable_communication', 'country', 'currency', 'deadline','launched_at', 'state']]"
   ]
  },
  {
   "cell_type": "code",
   "execution_count": 31,
   "metadata": {},
   "outputs": [
    {
     "output_type": "execute_result",
     "data": {
      "text/plain": "                                                   name  \\\n0              The Polk Street Mural Project (Canceled)   \n1     Voilà | Specialty Instant Coffee | World's Bes...   \n2                                  Dead Bird brewing Co   \n3                                 Fermenting for Health   \n4                     WANDERLUST, A Mythology Anthology   \n...                                                 ...   \n3781  Crowdfunding service for the homeless, veteran...   \n3782                                     Think About It   \n3783          ONE Mini: A Pocket Multilingual Assistant   \n3784   Stick Figure Spotlight 4 and Summoner Showdown 2   \n3785  \"FAITH, STRUGGLE, VICTORY\" PORPHYRA'S NEW EPIC...   \n\n                                                  blurb   goal  \\\n0     I am painting a Mural in San Francisco on Polk...   5000   \n1     Specialty instant coffee from top US roasters,...  26000   \n2     Milwaukee’s newest craft brewery, focusing on ...  10000   \n3     I'm a full-time studio potter making the BMW o...   9400   \n4     A full color, 208 page anthology of all-new il...  31000   \n...                                                 ...    ...   \n3781  NoticeTMA The Modern Approach to helping those...   2500   \n3782  Think About It is a card game where you use yo...   6000   \n3783  Translate and transcribe 12 Languages in real-...  38888   \n3784  Two of the most epic fan-made League of Legend...  20000   \n3785  Heavy, exotic, Metal epics & quick driving Har...  10000   \n\n      disable_communication country currency    deadline  launched_at  \\\n0                     False      US      USD  1309748392   1301972392   \n1                     False      US      USD  1472828209   1470236209   \n2                     False      US      USD  1553985061   1550100661   \n3                     False      US      USD  1410753480   1409257505   \n4                     False      CA      CAD  1513868725   1511276725   \n...                     ...     ...      ...         ...          ...   \n3781                  False      US      USD  1538500543   1534612543   \n3782                  False      US      USD  1560613500   1557675900   \n3783                  False      SG      SGD  1558108800   1554820188   \n3784                  False      US      USD  1377123065   1374531065   \n3785                  False      US      USD  1402035647   1399443647   \n\n           state  \n0       canceled  \n1     successful  \n2     successful  \n3         failed  \n4     successful  \n...          ...  \n3781      failed  \n3782        live  \n3783        live  \n3784      failed  \n3785  successful  \n\n[3786 rows x 9 columns]",
      "text/html": "<div>\n<style scoped>\n    .dataframe tbody tr th:only-of-type {\n        vertical-align: middle;\n    }\n\n    .dataframe tbody tr th {\n        vertical-align: top;\n    }\n\n    .dataframe thead th {\n        text-align: right;\n    }\n</style>\n<table border=\"1\" class=\"dataframe\">\n  <thead>\n    <tr style=\"text-align: right;\">\n      <th></th>\n      <th>name</th>\n      <th>blurb</th>\n      <th>goal</th>\n      <th>disable_communication</th>\n      <th>country</th>\n      <th>currency</th>\n      <th>deadline</th>\n      <th>launched_at</th>\n      <th>state</th>\n    </tr>\n  </thead>\n  <tbody>\n    <tr>\n      <th>0</th>\n      <td>The Polk Street Mural Project (Canceled)</td>\n      <td>I am painting a Mural in San Francisco on Polk...</td>\n      <td>5000</td>\n      <td>False</td>\n      <td>US</td>\n      <td>USD</td>\n      <td>1309748392</td>\n      <td>1301972392</td>\n      <td>canceled</td>\n    </tr>\n    <tr>\n      <th>1</th>\n      <td>Voilà | Specialty Instant Coffee | World's Bes...</td>\n      <td>Specialty instant coffee from top US roasters,...</td>\n      <td>26000</td>\n      <td>False</td>\n      <td>US</td>\n      <td>USD</td>\n      <td>1472828209</td>\n      <td>1470236209</td>\n      <td>successful</td>\n    </tr>\n    <tr>\n      <th>2</th>\n      <td>Dead Bird brewing Co</td>\n      <td>Milwaukee’s newest craft brewery, focusing on ...</td>\n      <td>10000</td>\n      <td>False</td>\n      <td>US</td>\n      <td>USD</td>\n      <td>1553985061</td>\n      <td>1550100661</td>\n      <td>successful</td>\n    </tr>\n    <tr>\n      <th>3</th>\n      <td>Fermenting for Health</td>\n      <td>I'm a full-time studio potter making the BMW o...</td>\n      <td>9400</td>\n      <td>False</td>\n      <td>US</td>\n      <td>USD</td>\n      <td>1410753480</td>\n      <td>1409257505</td>\n      <td>failed</td>\n    </tr>\n    <tr>\n      <th>4</th>\n      <td>WANDERLUST, A Mythology Anthology</td>\n      <td>A full color, 208 page anthology of all-new il...</td>\n      <td>31000</td>\n      <td>False</td>\n      <td>CA</td>\n      <td>CAD</td>\n      <td>1513868725</td>\n      <td>1511276725</td>\n      <td>successful</td>\n    </tr>\n    <tr>\n      <th>...</th>\n      <td>...</td>\n      <td>...</td>\n      <td>...</td>\n      <td>...</td>\n      <td>...</td>\n      <td>...</td>\n      <td>...</td>\n      <td>...</td>\n      <td>...</td>\n    </tr>\n    <tr>\n      <th>3781</th>\n      <td>Crowdfunding service for the homeless, veteran...</td>\n      <td>NoticeTMA The Modern Approach to helping those...</td>\n      <td>2500</td>\n      <td>False</td>\n      <td>US</td>\n      <td>USD</td>\n      <td>1538500543</td>\n      <td>1534612543</td>\n      <td>failed</td>\n    </tr>\n    <tr>\n      <th>3782</th>\n      <td>Think About It</td>\n      <td>Think About It is a card game where you use yo...</td>\n      <td>6000</td>\n      <td>False</td>\n      <td>US</td>\n      <td>USD</td>\n      <td>1560613500</td>\n      <td>1557675900</td>\n      <td>live</td>\n    </tr>\n    <tr>\n      <th>3783</th>\n      <td>ONE Mini: A Pocket Multilingual Assistant</td>\n      <td>Translate and transcribe 12 Languages in real-...</td>\n      <td>38888</td>\n      <td>False</td>\n      <td>SG</td>\n      <td>SGD</td>\n      <td>1558108800</td>\n      <td>1554820188</td>\n      <td>live</td>\n    </tr>\n    <tr>\n      <th>3784</th>\n      <td>Stick Figure Spotlight 4 and Summoner Showdown 2</td>\n      <td>Two of the most epic fan-made League of Legend...</td>\n      <td>20000</td>\n      <td>False</td>\n      <td>US</td>\n      <td>USD</td>\n      <td>1377123065</td>\n      <td>1374531065</td>\n      <td>failed</td>\n    </tr>\n    <tr>\n      <th>3785</th>\n      <td>\"FAITH, STRUGGLE, VICTORY\" PORPHYRA'S NEW EPIC...</td>\n      <td>Heavy, exotic, Metal epics &amp; quick driving Har...</td>\n      <td>10000</td>\n      <td>False</td>\n      <td>US</td>\n      <td>USD</td>\n      <td>1402035647</td>\n      <td>1399443647</td>\n      <td>successful</td>\n    </tr>\n  </tbody>\n</table>\n<p>3786 rows × 9 columns</p>\n</div>"
     },
     "metadata": {},
     "execution_count": 31
    }
   ],
   "source": [
    "val = "
   ]
  },
  {
   "cell_type": "code",
   "execution_count": null,
   "metadata": {},
   "outputs": [],
   "source": []
  }
 ]
}